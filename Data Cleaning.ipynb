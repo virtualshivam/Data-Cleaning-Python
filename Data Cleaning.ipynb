{
 "cells": [
  {
   "cell_type": "code",
   "execution_count": 42,
   "id": "47cceef7-f48c-40b2-902b-618da78d8887",
   "metadata": {},
   "outputs": [],
   "source": [
    "import pandas as pd;"
   ]
  },
  {
   "cell_type": "code",
   "execution_count": null,
   "id": "c4daa012-328a-434d-93d2-b75fb8d21c4a",
   "metadata": {},
   "outputs": [],
   "source": [
    "#Importing Database\n",
    "df = pd.read_excel(r\"C:\\Users\\shivam\\Desktop\\Master\\Python\\Data Cleaning\\Customer Call List.xlsx\")"
   ]
  },
  {
   "cell_type": "code",
   "execution_count": null,
   "id": "8031889a-ee2c-4045-b154-998853100963",
   "metadata": {},
   "outputs": [],
   "source": [
    "# Drop Duplicates\n",
    "df.drop_duplicates(inplace=True)"
   ]
  },
  {
   "cell_type": "code",
   "execution_count": null,
   "id": "5da19b21-d112-451f-bd9b-f55f977c3948",
   "metadata": {},
   "outputs": [],
   "source": [
    "#Drop not useful columns\n",
    "df.drop(columns =\"Not_Useful_Column\",inplace=True)"
   ]
  },
  {
   "cell_type": "code",
   "execution_count": null,
   "id": "bd8c6291-be88-486d-9ca6-a5e00b982baf",
   "metadata": {},
   "outputs": [],
   "source": [
    "#Removing unecessary things from last name.\n",
    "\n",
    "# df[\"Last_Name\"] = df[\"Last_Name\"].str.lstrip(\"/\")\n",
    "# df[\"Last_Name\"] = df[\"Last_Name\"].str.lstrip(\"...\")\n",
    "# df[\"Last_Name\"] = df[\"Last_Name\"].str.rstrip(\"_\")\n",
    "\n",
    "#Alternate Way, Better\n",
    "df[\"Last_Name\"] = df[\"Last_Name\"].str.strip(\"123./_\")"
   ]
  },
  {
   "cell_type": "code",
   "execution_count": null,
   "id": "f0fc3697-5d8a-48bf-8a47-fd4092af8c2e",
   "metadata": {},
   "outputs": [],
   "source": [
    "# Cleaning Phone number\n",
    "df[\"Phone_Number\"] = df[\"Phone_Number\"].str.replace(\"[^a-zA-Z0-9]\", \"\", regex=True)\n",
    "df[\"Phone_Number\"] = df[\"Phone_Number\"].apply(lambda x: str(x))    # Converting into string\n",
    "df[\"Phone_Number\"] = df[\"Phone_Number\"].apply(lambda x: x[0:3] + \"-\"+x[3:6] + \"-\"+x[6:])   \n",
    "\n",
    "#Removing nan-- and Na-- from Phone_Number column\n",
    "df[\"Phone_Number\"]=df[\"Phone_Number\"].str.replace(\"nan--\",\"\")\n",
    "df[\"Phone_Number\"]=df[\"Phone_Number\"].str.replace(\"Na--\",\"\")\n",
    "\n"
   ]
  },
  {
   "cell_type": "code",
   "execution_count": null,
   "id": "4ad709ff-a784-4b42-9200-58091ae5f98a",
   "metadata": {},
   "outputs": [],
   "source": [
    "#Splitting the Address\n",
    "df[[\"Street_Adress\",\"State\",\"Zip_Code\"]] =df[\"Address\"].str.split(\",\",n=2,expand=True)"
   ]
  },
  {
   "cell_type": "code",
   "execution_count": null,
   "id": "8a120409-ff10-4ebc-92be-ec8398308d17",
   "metadata": {},
   "outputs": [],
   "source": [
    "\n",
    "df[\"Paying Customer\"]=df[\"Paying Customer\"].str.replace(\"No\",\"N\")\n",
    "df[\"Paying Customer\"]=df[\"Paying Customer\"].str.replace(\"Yes\",\"Y\")\n",
    "df[\"Do_Not_Contact\"]=df[\"Do_Not_Contact\"].str.replace(\"No\",\"N\")\n",
    "df[\"Do_Not_Contact\"]=df[\"Do_Not_Contact\"].str.replace(\"Yes\",\"Y\")"
   ]
  },
  {
   "cell_type": "code",
   "execution_count": null,
   "id": "d089e151-76f3-479f-a618-7e214b7900e9",
   "metadata": {},
   "outputs": [],
   "source": [
    "# Replacing N/a in whole Table\n",
    "df.replace(\"N/a\",\"\",inplace=True)\n",
    "\n",
    "#Filling Na Values\n",
    "df=df.fillna(\"\")\n",
    "\n"
   ]
  },
  {
   "cell_type": "code",
   "execution_count": null,
   "id": "782fcd6f-780b-4c54-89ec-d4a828ab9487",
   "metadata": {},
   "outputs": [],
   "source": [
    "# Removing cx's who don't want call from us. \n",
    "df[df[\"Do_Not_Contact\"] != \"Y\"]\n",
    "\n",
    "#Alternate Way\n",
    "for x in df.index:\n",
    "    if df.loc[x,\"Do_Not_Contact\"] == \"Y\":\n",
    "        df.drop(x,inplace=True)"
   ]
  },
  {
   "cell_type": "code",
   "execution_count": null,
   "id": "22ea35c0-50d6-4b99-8d79-8ece116a2bd2",
   "metadata": {},
   "outputs": [],
   "source": [
    "# Removing complete rows that don't have Phone numbers\n",
    "df = df[df[\"Phone_Number\"] != \"\"]\n",
    "\n",
    "df.dropna(subset=\"Phone_Number\")"
   ]
  },
  {
   "cell_type": "code",
   "execution_count": null,
   "id": "e7f61ed5-d103-4e1c-b6b4-aa69b8e760ed",
   "metadata": {},
   "outputs": [],
   "source": [
    "#resetting Index\n",
    "df = df.reset_index(drop=True)"
   ]
  }
 ],
 "metadata": {
  "kernelspec": {
   "display_name": "Python 3 (ipykernel)",
   "language": "python",
   "name": "python3"
  },
  "language_info": {
   "codemirror_mode": {
    "name": "ipython",
    "version": 3
   },
   "file_extension": ".py",
   "mimetype": "text/x-python",
   "name": "python",
   "nbconvert_exporter": "python",
   "pygments_lexer": "ipython3",
   "version": "3.12.4"
  }
 },
 "nbformat": 4,
 "nbformat_minor": 5
}
